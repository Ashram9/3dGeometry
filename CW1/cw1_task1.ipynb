{
 "cells": [
  {
   "cell_type": "markdown",
   "metadata": {},
   "source": [
    "## Task 1: HALFEDGE MESH DATA STRUCTURE"
   ]
  },
  {
   "cell_type": "markdown",
   "metadata": {},
   "source": [
    "### 1. Using the simple halfedge mesh library from the tutorial, write a function to generate a halfedge mesh for a cube. "
   ]
  },
  {
   "cell_type": "code",
   "execution_count": 1,
   "metadata": {},
   "outputs": [],
   "source": [
    "from halfedge_mesh.halfedge_mesh import * #import a very lightweight package for half-edge data structures\n",
    "import os\n",
    "\n",
    "output_dir = './results_task1/'\n",
    "if not os.path.exists(output_dir):\n",
    "    os.makedirs(output_dir)"
   ]
  },
  {
   "cell_type": "markdown",
   "metadata": {},
   "source": [
    "Build the halfedge mesh cube model based on the connectivity structure showed as below.\n",
    "\n",
    "<div>\n",
    "<img src=\"cube.jpg\" width=\"300\"/>\n",
    "</div>"
   ]
  },
  {
   "cell_type": "code",
   "execution_count": 2,
   "metadata": {},
   "outputs": [],
   "source": [
    "def create_halfedge_cube():\n",
    "    ################### 1. Initialise ################################\n",
    "    \n",
    "    cube = HalfedgeMesh()   # Create a halfedge-mesh object called 'cube'\n",
    "    # Create vertices\n",
    "    vertices = [\n",
    "        [1, 1, 1], [1, -1, 1], [-1, -1, 1], [-1, 1, 1],  # Front face\n",
    "        [1, 1, -1], [1, -1, -1], [-1, -1, -1], [-1, 1, -1]  # Back face\n",
    "    ]\n",
    "    cube.update_vertices(vertices)\n",
    "    # Create facets\n",
    "    facets = [ Facet(index = i) for i in range(6) ]\n",
    "    cube.facets = facets\n",
    "    # Create halfedges (two per edge)\n",
    "    halfedges = [ Halfedge(index = i) for i in range(24) ]\n",
    "    cube.halfedges = halfedges\n",
    "\n",
    "    ################## 2. Define Halfedge Connectivity ################\n",
    "    \n",
    "    # Define halfedge connectivity\n",
    "    halfedges[0].update(vertex=cube.vertices[0], next=cube.halfedges[1], facet=cube.facets[0], opposite=cube.halfedges[19])\n",
    "    halfedges[1].update(vertex=cube.vertices[1], next=cube.halfedges[2], facet=cube.facets[0], opposite=cube.halfedges[15])\n",
    "    halfedges[2].update(vertex=cube.vertices[2], next=cube.halfedges[3], facet=cube.facets[0], opposite=cube.halfedges[23])\n",
    "    halfedges[3].update(vertex=cube.vertices[3], next=cube.halfedges[0], facet=cube.facets[0], opposite=cube.halfedges[8])\n",
    "    \n",
    "    halfedges[4].update(vertex=cube.vertices[4], next=cube.halfedges[5], facet=cube.facets[1], opposite=cube.halfedges[10])\n",
    "    halfedges[5].update(vertex=cube.vertices[7], next=cube.halfedges[6], facet=cube.facets[1], opposite=cube.halfedges[21])\n",
    "    halfedges[6].update(vertex=cube.vertices[6], next=cube.halfedges[7], facet=cube.facets[1], opposite=cube.halfedges[13])\n",
    "    halfedges[7].update(vertex=cube.vertices[5], next=cube.halfedges[4], facet=cube.facets[1], opposite=cube.halfedges[17])\n",
    "    \n",
    "    halfedges[8].update(vertex=cube.vertices[0], next=cube.halfedges[9], facet=cube.facets[2], opposite=cube.halfedges[3])\n",
    "    halfedges[9].update(vertex=cube.vertices[3], next=cube.halfedges[10], facet=cube.facets[2], opposite=cube.halfedges[22])\n",
    "    halfedges[10].update(vertex=cube.vertices[7], next=cube.halfedges[11], facet=cube.facets[2], opposite=cube.halfedges[4])\n",
    "    halfedges[11].update(vertex=cube.vertices[4], next=cube.halfedges[8], facet=cube.facets[2], opposite=cube.halfedges[16])\n",
    "    \n",
    "    halfedges[12].update(vertex=cube.vertices[1], next=cube.halfedges[13], facet=cube.facets[3], opposite=cube.halfedges[18])\n",
    "    halfedges[13].update(vertex=cube.vertices[5], next=cube.halfedges[14], facet=cube.facets[3], opposite=cube.halfedges[6])\n",
    "    halfedges[14].update(vertex=cube.vertices[6], next=cube.halfedges[15], facet=cube.facets[3], opposite=cube.halfedges[20])\n",
    "    halfedges[15].update(vertex=cube.vertices[2], next=cube.halfedges[12], facet=cube.facets[3], opposite=cube.halfedges[1])\n",
    "    \n",
    "    halfedges[16].update(vertex=cube.vertices[0], next=cube.halfedges[17], facet=cube.facets[4], opposite=cube.halfedges[11])\n",
    "    halfedges[17].update(vertex=cube.vertices[4], next=cube.halfedges[18], facet=cube.facets[4], opposite=cube.halfedges[7])\n",
    "    halfedges[18].update(vertex=cube.vertices[5], next=cube.halfedges[19], facet=cube.facets[4], opposite=cube.halfedges[12])\n",
    "    halfedges[19].update(vertex=cube.vertices[1], next=cube.halfedges[16], facet=cube.facets[4], opposite=cube.halfedges[0])\n",
    "    \n",
    "    halfedges[20].update(vertex=cube.vertices[2], next=cube.halfedges[21], facet=cube.facets[5], opposite=cube.halfedges[14])\n",
    "    halfedges[21].update(vertex=cube.vertices[6], next=cube.halfedges[22], facet=cube.facets[5], opposite=cube.halfedges[5])\n",
    "    halfedges[22].update(vertex=cube.vertices[7], next=cube.halfedges[23], facet=cube.facets[5], opposite=cube.halfedges[9])\n",
    "    halfedges[23].update(vertex=cube.vertices[3], next=cube.halfedges[20], facet=cube.facets[5], opposite=cube.halfedges[2])\n",
    "    \n",
    "    # Define facet connectivity\n",
    "    for i in range(6):\n",
    "        facets[i].update(halfedge=cube.halfedges[i*4])\n",
    "        \n",
    "    # Define vertex connectivity\n",
    "    cube.vertices[0].update( halfedge = cube.halfedges[0] )\n",
    "    cube.vertices[1].update( halfedge = cube.halfedges[1] )\n",
    "    cube.vertices[2].update( halfedge = cube.halfedges[2] )\n",
    "    cube.vertices[3].update( halfedge = cube.halfedges[3] )\n",
    "    cube.vertices[4].update( halfedge = cube.halfedges[4] )\n",
    "    cube.vertices[5].update( halfedge = cube.halfedges[7] )\n",
    "    cube.vertices[6].update( halfedge = cube.halfedges[6] )\n",
    "    cube.vertices[7].update( halfedge = cube.halfedges[5] )\n",
    "    \n",
    "    return cube"
   ]
  },
  {
   "cell_type": "code",
   "execution_count": 3,
   "metadata": {},
   "outputs": [],
   "source": [
    "cube = create_halfedge_cube()\n",
    "# Using the method HalfedgeMesh.flip() to fix 'inside out' situation\n",
    "cube.flip()\n",
    "cube.write_off(os.path.join(output_dir, 'my_cube.off')) "
   ]
  },
  {
   "cell_type": "markdown",
   "metadata": {},
   "source": [
    "### 2. Write a function that takes a pointer to a facet as input, and returns the x, y, z co-ordinates of the centroid. (The centroid of a facet is the mean of the co-ordinates of its vertices.) "
   ]
  },
  {
   "cell_type": "code",
   "execution_count": 4,
   "metadata": {},
   "outputs": [],
   "source": [
    "def calculate_facet_centroid(facet):\n",
    "    # Get the vertices of the facet\n",
    "    # Facet.get_vertices() traverse all the halfedges in the facet to get the corresponding vertices\n",
    "    vertices = facet.get_vertices()\n",
    "    \n",
    "    # Calculate the centroid coordinates by taking the mean of vertex coordinates\n",
    "    centroid = [sum(v.get_vertex()[i] for v in vertices) / len(vertices) for i in range(3)]\n",
    "    \n",
    "    return centroid"
   ]
  },
  {
   "cell_type": "markdown",
   "metadata": {},
   "source": [
    "### 3. Write a function that takes a halfedge mesh and returns a halfedge mesh for the dual polyhedron."
   ]
  },
  {
   "cell_type": "code",
   "execution_count": 5,
   "metadata": {},
   "outputs": [],
   "source": [
    "def create_dual_mesh(original_mesh):\n",
    "    ################### 1. Initialise ################################\n",
    "    \n",
    "    dual_mesh = HalfedgeMesh()\n",
    "    \n",
    "    # Dual number of vertices = Original number of facets\n",
    "    # Set centoirds of facet of original mesh as vertices of its dual mesh\n",
    "    dual_vertices = [calculate_facet_centroid(facet) for facet in original_mesh.facets]\n",
    "    dual_mesh.update_vertices(dual_vertices)\n",
    "    \n",
    "    # Dual number of facets = Original number of vertices\n",
    "    # Dual number of haledges = Original number of halfedges\n",
    "    dual_mesh.facets = [Facet(index=i) for i in range(len(original_mesh.vertices))]\n",
    "    dual_mesh.halfedges = [Halfedge(index=i) for i in range(len(original_mesh.halfedges))]\n",
    "    dual_halfedges = []\n",
    "    dual_facets = []\n",
    "    \n",
    "    # For each vertex of the original mesh, find all adjacent facets\n",
    "    for orig_vertex in original_mesh.vertices:\n",
    "        # Stores the index of the facets adjacent to the current vertex, which will then be the vertex index of dual mesh\n",
    "        adjacent_facets = []\n",
    "        start_halfedge = orig_vertex.halfedge\n",
    "        current_halfedge = start_halfedge\n",
    "        \n",
    "        while True:\n",
    "            adjacent_facets.append(current_halfedge.facet.index)\n",
    "            temp = current_halfedge\n",
    "            while True:\n",
    "                temp = temp.next\n",
    "                if temp == current_halfedge:\n",
    "                    break\n",
    "                prev_edge = temp\n",
    "            current_halfedge = prev_edge.opposite\n",
    "            if current_halfedge == start_halfedge:\n",
    "                break\n",
    "\n",
    "        num_facets = len(adjacent_facets)\n",
    "        \n",
    "        for i in range(num_facets):\n",
    "            dual_mesh.halfedges[len(dual_halfedges) + i].update(\n",
    "                vertex=dual_mesh.vertices[adjacent_facets[i]],\n",
    "                facet=dual_mesh.facets[len(dual_facets)],\n",
    "                next=dual_mesh.halfedges[len(dual_halfedges) + (i + 1) % num_facets]\n",
    "            )\n",
    "\n",
    "            dual_mesh.vertices[adjacent_facets[i]].update( halfedge=dual_mesh.halfedges[len(dual_halfedges) + i] )\n",
    "    \n",
    "\n",
    "        dual_mesh.facets[len(dual_facets)].halfedge = dual_mesh.halfedges[len(dual_halfedges)]\n",
    "        dual_facets.append(dual_mesh.facets[len(dual_facets)])\n",
    "        length = len(dual_halfedges)\n",
    "        for i in range(num_facets):\n",
    "            dual_halfedges.append(dual_mesh.halfedges[length + i])\n",
    "    \n",
    "    # dictionary to find opposite halfedge\n",
    "    dict_dual_halfedges = {}\n",
    "    for halfedge in dual_mesh.halfedges:\n",
    "        start_vertex_idx = halfedge.vertex.index\n",
    "        end_vertex_idx = halfedge.next.vertex.index\n",
    "        dict_dual_halfedges[(start_vertex_idx, end_vertex_idx)] = halfedge\n",
    "\n",
    "    for current_halfedge in dual_mesh.halfedges:\n",
    "        start_vertex_idx = current_halfedge.vertex.index\n",
    "        end_vertex_idx = current_halfedge.next.vertex.index\n",
    "\n",
    "        opposite_key = (end_vertex_idx, start_vertex_idx)\n",
    "\n",
    "        current_halfedge.update( opposite = dict_dual_halfedges[opposite_key])\n",
    "        current_halfedge.opposite.update( opposite = current_halfedge)\n",
    "\n",
    "    \n",
    "    return dual_mesh\n"
   ]
  },
  {
   "cell_type": "code",
   "execution_count": 8,
   "metadata": {},
   "outputs": [],
   "source": [
    "# Test the function by finding the dual and the double dual of the cube, and the icosphere ‘sphere1.off’\n",
    "dual_cube = create_dual_mesh(cube)\n",
    "dual_cube.write_obj(os.path.join(output_dir, 'dual_cube.obj'))\n",
    "\n",
    "double_dual_cube = create_dual_mesh(dual_cube)\n",
    "double_dual_cube.write_obj(os.path.join(output_dir, 'double_dual_cube.obj'))\n",
    "\n",
    "icosphere = HalfedgeMesh('sphere1.off')\n",
    "dual_icosphere = create_dual_mesh(icosphere)\n",
    "dual_icosphere.write_obj(os.path.join(output_dir, 'dual_icosphere.obj'))\n",
    "\n",
    "double_dual_icosphere = create_dual_mesh(dual_icosphere)\n",
    "double_dual_icosphere.write_obj(os.path.join(output_dir, 'double_dual_icosphere.obj'))"
   ]
  }
 ],
 "metadata": {
  "kernelspec": {
   "display_name": "geo_tutorials",
   "language": "python",
   "name": "python3"
  },
  "language_info": {
   "codemirror_mode": {
    "name": "ipython",
    "version": 3
   },
   "file_extension": ".py",
   "mimetype": "text/x-python",
   "name": "python",
   "nbconvert_exporter": "python",
   "pygments_lexer": "ipython3",
   "version": "3.9.18"
  }
 },
 "nbformat": 4,
 "nbformat_minor": 2
}
